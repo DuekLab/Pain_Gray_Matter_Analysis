{
 "cells": [
  {
   "cell_type": "markdown",
   "metadata": {},
   "source": [
    "# Extracting TotalGray From SUB 1"
   ]
  },
  {
   "cell_type": "code",
   "execution_count": 1,
   "metadata": {},
   "outputs": [
    {
     "name": "stdout",
     "output_type": "stream",
     "text": [
      "TotalGray value: 539130.558278\n"
     ]
    }
   ],
   "source": [
    "#file_path = r\"Z:\\Pain_Data\\preproc\\sourcedata\\freesurfer\\sub-01\\stats\\aseg.stats\"\n",
    "\n",
    "file_path = r\"E:\\Pain_Data\\preproc\\sourcedata\\freesurfer\\sub-01\\stats\\aseg.stats\"\n",
    "\n",
    "# Initialize variable to store TotalGray value\n",
    "total_gray = None\n",
    "\n",
    "# Open the file and search for the TotalGray line\n",
    "with open(file_path, 'r') as file:\n",
    "    for line in file:\n",
    "        if \"Measure TotalGray,\" in line:\n",
    "            # Extract the fourth column (value of TotalGray)\n",
    "            total_gray = line.split(\",\")[3].strip()\n",
    "            break\n",
    "\n",
    "if total_gray:\n",
    "    print(f\"TotalGray value: {total_gray}\")\n",
    "else:\n",
    "    print(\"TotalGray not found in the file.\")"
   ]
  },
  {
   "cell_type": "markdown",
   "metadata": {},
   "source": [
    "# Imports"
   ]
  },
  {
   "cell_type": "code",
   "execution_count": 2,
   "metadata": {},
   "outputs": [],
   "source": [
    "import os\n",
    "import pandas as pd\n",
    "import numpy as np\n",
    "import matplotlib.pyplot as plt\n",
    "import seaborn as sns\n",
    "from sklearn.linear_model import LinearRegression\n",
    "from sklearn.model_selection import train_test_split\n",
    "from sklearn.metrics import mean_squared_error, r2_score\n",
    "from sklearn.preprocessing import LabelEncoder\n",
    "from sklearn.model_selection import KFold\n"
   ]
  },
  {
   "cell_type": "markdown",
   "metadata": {},
   "source": [
    "# Extracting TotalGray From All Subjects"
   ]
  },
  {
   "cell_type": "code",
   "execution_count": 4,
   "metadata": {},
   "outputs": [
    {
     "name": "stdout",
     "output_type": "stream",
     "text": [
      "   Subject no. GrayMatterVolume\n",
      "0       sub-01    539130.558278\n",
      "1       sub-02    646046.397303\n",
      "2       sub-03    522794.567346\n",
      "3       sub-04    661397.361193\n",
      "4       sub-05    566065.614608\n",
      "..         ...              ...\n",
      "71      sub-72    520297.770373\n",
      "72      sub-73    439050.118733\n",
      "73      sub-74    459312.942825\n",
      "74      sub-75    501260.844867\n",
      "75      sub-76    540618.140714\n",
      "\n",
      "[76 rows x 2 columns]\n"
     ]
    }
   ],
   "source": [
    "\n",
    "\n",
    "def extract_gray_matter_volume(aseg_stats_path):\n",
    "    # Initialize variable to store TotalGray value\n",
    "    total_gray = None\n",
    "\n",
    "# Open the file and search for the TotalGray line\n",
    "    with open(aseg_stats_path, 'r') as file:\n",
    "        for line in file:\n",
    "            if \"Measure TotalGray,\" in line:\n",
    "                # Extract the fourth column (value of TotalGray)\n",
    "                total_gray = line.split(\",\")[3].strip()\n",
    "                break\n",
    "\n",
    "    if total_gray:\n",
    "        # print(f\"TotalGray value: {total_gray}\")\n",
    "        return total_gray\n",
    "    else:\n",
    "        # print(\"TotalGray not found in the file.\")\n",
    "        return None\n",
    "    \n",
    "# Extract gray matter volumes for all subjects\n",
    "#base_dir = r\"Z:\\Pain_Data\\preproc\\sourcedata\\freesurfer\"  # Base directory for FreeSurfer data\n",
    "base_dir= r\"E:\\Pain_Data\\preproc\\sourcedata\\freesurfer\"\n",
    "\n",
    "\n",
    "subjects_names= os.listdir(base_dir)\n",
    "## sort the list of subjects (in my PC it was unsorted) (LC)\n",
    "sorted_subjects = sorted(subjects_names, key=lambda x: int(x.split('-')[1]) if len(x.split('-')) > 1 else float('inf'))\n",
    "## and remove the last value- fsaverage (LC)\n",
    "sorted_subjects=sorted_subjects[:-1]\n",
    "\n",
    "\n",
    "\n",
    "'''\n",
    "subject_dirs = [\n",
    "    os.path.join(base_dir, sub, 'stats', 'aseg.stats')\n",
    "    for sub in os.listdir(base_dir)\n",
    "    if os.path.isdir(os.path.join(base_dir, sub))\n",
    "]\n",
    "\n",
    "subject_dirs = subject_dirs[1:] \n",
    "'''\n",
    "## Iterate over sorted subjects rather than entire folder (os.listdir(base_dir)) (LC)\n",
    "subject_dirs = [\n",
    "    os.path.join(base_dir, sub, 'stats', 'aseg.stats')\n",
    "    for sub in sorted_subjects\n",
    "    if os.path.isdir(os.path.join(base_dir, sub))\n",
    "]\n",
    "subject_TotalGray_data = []\n",
    "\n",
    "\n",
    "\n",
    "for aseg_path in subject_dirs:\n",
    "\n",
    "## adding if statment to ignore fsaverage folder (LC)\n",
    "    if 'fsaverage' in os.path.basename(aseg_path):\n",
    "        continue\n",
    "\n",
    "    subject_id = os.path.basename(os.path.dirname(os.path.dirname(aseg_path)))\n",
    "    gray_matter_volume = extract_gray_matter_volume(aseg_path)\n",
    "    if gray_matter_volume is not None:\n",
    "        subject_TotalGray_data.append({'Subject no.': subject_id, 'GrayMatterVolume': gray_matter_volume})\n",
    "\n",
    "gray_matter_df = pd.DataFrame(subject_TotalGray_data)\n",
    "print(gray_matter_df)\n"
   ]
  },
  {
   "cell_type": "markdown",
   "metadata": {},
   "source": [
    "# Extracting Patient Data"
   ]
  },
  {
   "cell_type": "code",
   "execution_count": 5,
   "metadata": {},
   "outputs": [
    {
     "name": "stdout",
     "output_type": "stream",
     "text": [
      "      Study subject ID  gender 01 gender  age  Duration group  BDI-S1  BDI-S2  \\\n",
      "0   Control      con01          0      F   59       NaN   con       0     NaN   \n",
      "1   Control      con02          1      M   59       NaN   con       0     NaN   \n",
      "2   Control      con03          1      M   52       NaN   con       2     NaN   \n",
      "3   Control      con04          1      M   48       NaN   con       1     NaN   \n",
      "4   Control      con05          1      M   78       NaN   con       0     NaN   \n",
      "..      ...        ...        ...    ...  ...       ...   ...     ...     ...   \n",
      "71      DLX      OA856          1      M   59      27.0  nres       0    17.0   \n",
      "72      DLX      OA861          0      F   60       2.0  nres       2     0.0   \n",
      "73      DLX      OA901          0      F   72       6.0  nres       3     8.0   \n",
      "74      DLX      OA905          0      F   52       4.0  nres      38    36.0   \n",
      "75      DLX      OA912          1      M   64      30.0  nres       2     2.0   \n",
      "\n",
      "    PCS-S1  ...  WOMAC-S1  WOMAC-S2  %CH-WOMAC  group WOMAC  VAS-S1  VAS-S2  \\\n",
      "0      NaN  ...       NaN       NaN        NaN          NaN     NaN     NaN   \n",
      "1      NaN  ...       NaN       NaN        NaN          NaN     NaN     NaN   \n",
      "2      NaN  ...       NaN       NaN        NaN          NaN     NaN     NaN   \n",
      "3      NaN  ...       NaN       NaN        NaN          NaN     NaN     NaN   \n",
      "4      NaN  ...       NaN       NaN        NaN          NaN     NaN     NaN   \n",
      "..     ...  ...       ...       ...        ...          ...     ...     ...   \n",
      "71    10.0  ...      48.0      36.0 -25.000000          NaN    6.33     6.0   \n",
      "72     0.0  ...      56.0      11.0 -80.357143          NaN    6.67     6.0   \n",
      "73     7.0  ...      64.0      64.0   0.000000          NaN    7.00     6.0   \n",
      "74    51.0  ...      59.0      64.0   8.474576          NaN    6.00     5.0   \n",
      "75    20.0  ...      34.0      23.0 -32.352941          NaN    5.67     5.0   \n",
      "\n",
      "      %CH-VAS  analgesia VAS  Subject no. GrayMatterVolume  \n",
      "0         NaN            NaN       sub-01    539130.558278  \n",
      "1         NaN            NaN       sub-02    646046.397303  \n",
      "2         NaN            NaN       sub-03    522794.567346  \n",
      "3         NaN            NaN       sub-04    661397.361193  \n",
      "4         NaN            NaN       sub-05    566065.614608  \n",
      "..        ...            ...          ...              ...  \n",
      "71  -5.213270       5.213270       sub-66    523581.057423  \n",
      "72 -10.044978      10.044978       sub-69    558572.912471  \n",
      "73 -14.285714      14.285714       sub-70    494253.930700  \n",
      "74 -16.666667      16.666667       sub-71    520791.473051  \n",
      "75 -11.816578      11.816578       sub-76    540618.140714  \n",
      "\n",
      "[76 rows x 21 columns]\n"
     ]
    }
   ],
   "source": [
    "# Step 3: Load demographic data\n",
    "#Patient_Data_path = r\"C:\\Users\\zevel\\Downloads\\התנסות מחקרית\\Copy of data_Pre_Post_Placebo_paper_2016_Tetreault_P (2).csv\"  # Update with your file path\n",
    "patient_data_path= r\"C:\\Lital2021\\Cognitive sciences\\Research chronic pain\\OpenNeuro Osteoarithritis knee pain\\Pain_data_Tetreault_Pascal_with_subjectID.xlsx\"\n",
    "Patient_Data = pd.read_excel(patient_data_path)\n",
    "#Patient_Data = pd.read_csv(patient_data_path)\n",
    "\n",
    "# Step 4: Merge gray matter data with demographics using \"Subject no.\"\n",
    "merged_data = pd.merge(Patient_Data, gray_matter_df, on=\"Subject no.\", how=\"inner\")\n",
    "\n",
    "## add print (LC)\n",
    "print(merged_data)\n",
    "\n",
    "\n",
    "\n",
    "\n"
   ]
  },
  {
   "cell_type": "markdown",
   "metadata": {},
   "source": [
    "# Encoding the Variables"
   ]
  },
  {
   "cell_type": "code",
   "execution_count": 6,
   "metadata": {},
   "outputs": [],
   "source": [
    "# Categorize subjects into \"Control\" and \"Chronic Pain\" groups\n",
    "def assign_group(subject_no):\n",
    "    subject_number = int(subject_no.split('-')[1])  # Extract the numeric part of Subject no.\n",
    "    return \"Control\" if subject_number <= 20 else \"Chronic Pain\"\n",
    "\n",
    "merged_data['PainGroup'] = merged_data['Subject no.'].apply(assign_group) # New column\n",
    "\n",
    "# Encode categorical variables (e.g., Gender and PainGroup)\n",
    "label_encoder = LabelEncoder()\n",
    "# merged_data['GenderEncoded'] = label_encoder.fit_transform(merged_data['gender']) # No Need\n",
    "merged_data['PainGroupEncoded'] = merged_data['PainGroup'].map({\"Control\": 0, \"Chronic Pain\": 1})\n",
    "\n",
    "\n"
   ]
  },
  {
   "cell_type": "markdown",
   "metadata": {},
   "source": [
    "# Preparing Data for Regression"
   ]
  },
  {
   "cell_type": "code",
   "execution_count": 7,
   "metadata": {},
   "outputs": [],
   "source": [
    "X = merged_data[['age', 'gender 01', 'PainGroupEncoded']]  # Predictors\n",
    "y = merged_data['GrayMatterVolume']  # Target variable"
   ]
  },
  {
   "cell_type": "markdown",
   "metadata": {},
   "source": [
    "# Train-Test split \n",
    "This is an example for our understanding, these variables are not used in the cross validation. There it is done again"
   ]
  },
  {
   "cell_type": "code",
   "execution_count": 17,
   "metadata": {},
   "outputs": [
    {
     "name": "stdout",
     "output_type": "stream",
     "text": [
      "Train size: 48\n",
      "Dev size: 12\n",
      "Test size: 16\n"
     ]
    }
   ],
   "source": [
    "# Train-test split\n",
    "X_train_full, X_test, y_train_full, y_test = train_test_split(X, y, test_size=0.2, random_state=42)\n",
    "\n",
    "# Train-dev split (from the remaining 80% which is X_train_full)\n",
    "X_train, X_dev, y_train, y_dev = train_test_split(X_train_full, y_train_full, test_size=0.2, random_state=42) #this is done again in the cross validation\n",
    "\n",
    "## Adding stratification (preserving the percentage of samples for each class) (LC)\n",
    "merged_data['StratifyGroup'] = merged_data['PainGroupEncoded'].astype(str) + \"_\" + merged_data['gender'].astype(str) \n",
    "X_train_strat_full, X_test_strat, y_train_strat_full, y_test_strat = train_test_split(X, y, test_size=0.2, stratify=merged_data['StratifyGroup'], random_state=42) #this is done again in the cross validation\n",
    "X_train_strat, X_dev_strat, y_train_strat, y_dev_strat = train_test_split(X_train_strat_full, y_train_strat_full, test_size=0.2, random_state=42) \n",
    "\n",
    "\n",
    "# Print sizes to verify the splits\n",
    "print(f\"Train size: {len(X_train)}\")\n",
    "print(f\"Dev size: {len(X_dev)}\")\n",
    "print(f\"Test size: {len(X_test)}\")"
   ]
  },
  {
   "cell_type": "markdown",
   "metadata": {},
   "source": [
    "# Cross Validation on Train subjects"
   ]
  },
  {
   "cell_type": "code",
   "execution_count": null,
   "metadata": {},
   "outputs": [],
   "source": [
    "# Train-test split\n",
    "X_train_full, X_test, y_train_full, y_test = train_test_split(X, y, test_size=0.2, random_state=42)\n",
    "\n",
    "# Number of folds\n",
    "n_splits = 5\n",
    "kf = KFold(n_splits=n_splits, shuffle=True, random_state=42) # Calling KFold\n",
    "\n",
    "\n",
    "# need to add stratification, check this out- from sklearn.model_selection import StratifiedKFold (LC)\n",
    "\n",
    "\n",
    "# Convert X_train  and Y_train to a NumPy array\n",
    "X_train_np = X_train_full.to_numpy()\n",
    "y_train_np = y_train_full.to_numpy()\n",
    "\n",
    "r2_scores = []\n",
    "mse_scores = []\n",
    "\n",
    "# Cross-validation\n",
    "for fold, (train_index, dev_index) in enumerate(kf.split(X_train_np)):\n",
    "    # Split into training and validation sets\n",
    "    X_train_fold, X_dev_fold = X_train_np[train_index], X_train_np[dev_index]\n",
    "    y_train_fold, y_dev_fold = y_train_np[train_index], y_train_np[dev_index]\n",
    "    \n",
    "    # Train the model\n",
    "    model = LinearRegression()  \n",
    "    model.fit(X_train_fold, y_train_fold)\n",
    "    \n",
    "    # Predict on the validation set\n",
    "    y_dev_pred = model.predict(X_dev_fold)\n",
    "    \n",
    "    # Compute metrics\n",
    "    mse = mean_squared_error(y_dev_fold, y_dev_pred)\n",
    "    r2 = r2_score(y_dev_fold, y_dev_pred)\n",
    "    \n",
    "    # Append metrics to the lists\n",
    "    mse_scores.append(mse)\n",
    "    r2_scores.append(r2)\n",
    "    \n",
    "    print(f\"Fold {fold+1}: MSE = {mse:.2f}, R^2 = {r2:.2f}\")\n",
    "\n",
    "# Calculate average metrics\n",
    "avg_mse = sum(mse_scores) / len(mse_scores)\n",
    "avg_r2 = sum(r2_scores) / len(r2_scores)\n",
    "\n",
    "print(\"\\nCross-Validation Performance:\")\n",
    "print(f\"Average MSE: {avg_mse:.2f}\")\n",
    "print(f\"Average R^2: {avg_r2:.2f}\")"
   ]
  },
  {
   "cell_type": "markdown",
   "metadata": {},
   "source": [
    "# Evaluating the Final Model on X_test, y_test"
   ]
  },
  {
   "cell_type": "code",
   "execution_count": 76,
   "metadata": {},
   "outputs": [
    {
     "name": "stdout",
     "output_type": "stream",
     "text": [
      "\n",
      "Test Set Performance:\n",
      "Test MSE: 1493661581.16\n",
      "Test R^2: -0.02\n",
      "Coefficients: [  -281.24550226  62244.95406869 -25321.76342007]\n",
      "Intercept: 558455.2314730741\n",
      "\n",
      "Feature Importance:\n",
      "age: -281.246\n",
      "gender 01: 62244.954\n",
      "PainGroupEncoded: -25321.763\n"
     ]
    }
   ],
   "source": [
    "# Train the final model on the entire training set\n",
    "final_model = LinearRegression()  \n",
    "final_model.fit(X_train_full, y_train_full)\n",
    "\n",
    "# Predict on the test set\n",
    "y_test_pred = final_model.predict(X_test)\n",
    "\n",
    "# Evaluate the final model on the test set\n",
    "from sklearn.metrics import mean_squared_error, r2_score\n",
    "mse_test = mean_squared_error(y_test, y_test_pred)\n",
    "r2_test = r2_score(y_test, y_test_pred)\n",
    "\n",
    "print(\"\\nTest Set Performance:\")\n",
    "print(f\"Test MSE: {mse_test:.2f}\")\n",
    "print(f\"Test R^2: {r2_test:.2f}\")\n",
    "print(\"Coefficients:\", model.coef_)\n",
    "print(\"Intercept:\", model.intercept_)\n",
    "\n",
    "# Finding feature importance\n",
    "print(\"\\nFeature Importance:\")\n",
    "for feature, coef in zip(X.columns, model.coef_):\n",
    "    print(f\"{feature}: {coef:.3f}\")"
   ]
  },
  {
   "cell_type": "markdown",
   "metadata": {},
   "source": [
    "# Turning All Of This Into a Function"
   ]
  },
  {
   "cell_type": "code",
   "execution_count": 84,
   "metadata": {},
   "outputs": [],
   "source": [
    "def Lin_Regress(x_cols):\n",
    "    \n",
    "    print(f\"\\nRegressors: {x_cols} \")\n",
    "    print()\n",
    "\n",
    "    \n",
    "    X = merged_data[x_cols]\n",
    "    y = merged_data['GrayMatterVolume']  # Target variable\n",
    "    \n",
    "\n",
    "\n",
    "    # Train-test split\n",
    "    X_train_full, X_test, y_train_full, y_test = train_test_split(X, y, test_size=0.2, random_state=42)\n",
    "\n",
    "    # Number of folds\n",
    "    n_splits = 5\n",
    "    kf = KFold(n_splits=n_splits, shuffle=True, random_state=42) # Calling KFold\n",
    "\n",
    "    # Convert X_train  and Y_train to a NumPy array\n",
    "    X_train_np = X_train_full.to_numpy()\n",
    "    y_train_np = y_train_full.to_numpy()\n",
    "\n",
    "    r2_scores = []\n",
    "    mse_scores = []\n",
    "\n",
    "    # Cross-validation\n",
    "    for fold, (train_index, dev_index) in enumerate(kf.split(X_train_np)):\n",
    "        # Split into training and validation sets\n",
    "        X_train_fold, X_dev_fold = X_train_np[train_index], X_train_np[dev_index]\n",
    "        y_train_fold, y_dev_fold = y_train_np[train_index], y_train_np[dev_index]\n",
    "        \n",
    "        # Train the model\n",
    "        model = LinearRegression()  \n",
    "        model.fit(X_train_fold, y_train_fold)\n",
    "        \n",
    "        # Predict on the validation set\n",
    "        y_dev_pred = model.predict(X_dev_fold)\n",
    "        \n",
    "        # Compute metrics\n",
    "        mse = mean_squared_error(y_dev_fold, y_dev_pred)\n",
    "        r2 = r2_score(y_dev_fold, y_dev_pred)\n",
    "        \n",
    "        # Append metrics to the lists\n",
    "        mse_scores.append(mse)\n",
    "        r2_scores.append(r2)\n",
    "        \n",
    "        print(f\"Fold {fold+1}: MSE = {mse:.2f}, R^2 = {r2:.2f}\")\n",
    "\n",
    "    # Calculate average metrics\n",
    "    avg_mse = sum(mse_scores) / len(mse_scores)\n",
    "    avg_r2 = sum(r2_scores) / len(r2_scores)\n",
    "\n",
    "    print(\"\\nCross-Validation Performance:\")\n",
    "    print(f\"Average MSE: {avg_mse:.2f}\")\n",
    "    print(f\"Average R^2: {avg_r2:.2f}\")\n",
    "    \n",
    "    # Train the final model on the entire training set\n",
    "    final_model = LinearRegression() \n",
    "    final_model.fit(X_train_full, y_train_full)\n",
    "\n",
    "    # Predict on the test set\n",
    "    y_test_pred = final_model.predict(X_test)\n",
    "\n",
    "    # Evaluate the final model on the test set\n",
    "    #from sklearn.metrics import mean_squared_error, r2_score\n",
    "    mse_test = mean_squared_error(y_test, y_test_pred)\n",
    "    r2_test = r2_score(y_test, y_test_pred)\n",
    "\n",
    "    print(\"\\nTest Set Performance:\")\n",
    "    print(f\"Test MSE: {mse_test:.2f}\")\n",
    "    print(f\"Test R^2: {r2_test:.2f}\")\n",
    "    print(\"Coefficients\", model.coef_)\n",
    "    print(\"Intercept:\", model.intercept_)\n",
    "    \n",
    "    return mse_test, r2_test, model.coef_, model.intercept_\n",
    "\n"
   ]
  },
  {
   "cell_type": "markdown",
   "metadata": {},
   "source": [
    "# Performing Linear Regression for each Variable Seperately"
   ]
  },
  {
   "cell_type": "code",
   "execution_count": 85,
   "metadata": {},
   "outputs": [
    {
     "name": "stdout",
     "output_type": "stream",
     "text": [
      "\n",
      "Regressors: ['PainGroupEncoded'] \n",
      "\n",
      "Fold 1: MSE = 2894488427.79, R^2 = 0.12\n",
      "Fold 2: MSE = 4022202003.01, R^2 = -0.26\n",
      "Fold 3: MSE = 1891869863.79, R^2 = -0.03\n",
      "Fold 4: MSE = 3227040636.42, R^2 = -0.09\n",
      "Fold 5: MSE = 4322435965.77, R^2 = -0.12\n",
      "\n",
      "Cross-Validation Performance:\n",
      "Average MSE: 3271607379.36\n",
      "Average R^2: -0.08\n",
      "\n",
      "Test Set Performance:\n",
      "Test MSE: 1754212176.99\n",
      "Test R^2: -0.20\n",
      "Coefficients [-26641.76801256]\n",
      "Intercept: 575659.5060713848\n",
      "\n",
      "Regressors: ['age'] \n",
      "\n",
      "Fold 1: MSE = 3754581404.80, R^2 = -0.15\n",
      "Fold 2: MSE = 3371432940.37, R^2 = -0.05\n",
      "Fold 3: MSE = 1717257672.49, R^2 = 0.07\n",
      "Fold 4: MSE = 3291256509.75, R^2 = -0.12\n",
      "Fold 5: MSE = 4405664652.96, R^2 = -0.14\n",
      "\n",
      "Cross-Validation Performance:\n",
      "Average MSE: 3308038636.07\n",
      "Average R^2: -0.08\n",
      "\n",
      "Test Set Performance:\n",
      "Test MSE: 1725339007.67\n",
      "Test R^2: -0.18\n",
      "Coefficients [-991.41357598]\n",
      "Intercept: 613260.1519639702\n",
      "\n",
      "Regressors: ['gender 01'] \n",
      "\n",
      "Fold 1: MSE = 1591104099.34, R^2 = 0.51\n",
      "Fold 2: MSE = 2348954758.14, R^2 = 0.27\n",
      "Fold 3: MSE = 2395012134.23, R^2 = -0.30\n",
      "Fold 4: MSE = 2259169710.27, R^2 = 0.23\n",
      "Fold 5: MSE = 4628760579.93, R^2 = -0.20\n",
      "\n",
      "Cross-Validation Performance:\n",
      "Average MSE: 2644600256.38\n",
      "Average R^2: 0.10\n",
      "\n",
      "Test Set Performance:\n",
      "Test MSE: 1567196480.41\n",
      "Test R^2: -0.07\n",
      "Coefficients [63246.37301392]\n",
      "Intercept: 523292.3976174784\n",
      "\n",
      "Regressors: ['age', 'gender 01', 'PainGroupEncoded'] \n",
      "\n",
      "Fold 1: MSE = 1563721952.88, R^2 = 0.52\n",
      "Fold 2: MSE = 2602391273.14, R^2 = 0.19\n",
      "Fold 3: MSE = 2059310348.40, R^2 = -0.12\n",
      "Fold 4: MSE = 2133391386.08, R^2 = 0.28\n",
      "Fold 5: MSE = 4444450461.02, R^2 = -0.15\n",
      "\n",
      "Cross-Validation Performance:\n",
      "Average MSE: 2560653084.30\n",
      "Average R^2: 0.14\n",
      "\n",
      "Test Set Performance:\n",
      "Test MSE: 1493661581.16\n",
      "Test R^2: -0.02\n",
      "Coefficients [  -281.24550226  62244.95406869 -25321.76342007]\n",
      "Intercept: 558455.2314730741\n"
     ]
    },
    {
     "data": {
      "text/plain": [
       "(1493661581.1619155,\n",
       " -0.01801689237436821,\n",
       " array([  -281.24550226,  62244.95406869, -25321.76342007]),\n",
       " np.float64(558455.2314730741))"
      ]
     },
     "execution_count": 85,
     "metadata": {},
     "output_type": "execute_result"
    }
   ],
   "source": [
    "Lin_Regress(['PainGroupEncoded'])\n",
    "Lin_Regress(['age'])\n",
    "Lin_Regress(['gender 01'])\n",
    "Lin_Regress(['age', 'gender 01', 'PainGroupEncoded'])\n",
    "\n"
   ]
  }
 ],
 "metadata": {
  "kernelspec": {
   "display_name": "fMRI_analysis",
   "language": "python",
   "name": "python3"
  },
  "language_info": {
   "codemirror_mode": {
    "name": "ipython",
    "version": 3
   },
   "file_extension": ".py",
   "mimetype": "text/x-python",
   "name": "python",
   "nbconvert_exporter": "python",
   "pygments_lexer": "ipython3",
   "version": "3.12.4"
  }
 },
 "nbformat": 4,
 "nbformat_minor": 2
}
