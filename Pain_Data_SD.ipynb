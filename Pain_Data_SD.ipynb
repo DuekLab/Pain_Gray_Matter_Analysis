{
 "cells": [
  {
   "cell_type": "markdown",
   "metadata": {},
   "source": [
    "# Extracting TotalGray From SUB 1"
   ]
  },
  {
   "cell_type": "code",
   "execution_count": 63,
   "metadata": {},
   "outputs": [
    {
     "name": "stdout",
     "output_type": "stream",
     "text": [
      "TotalGray value: 539130.558278\n"
     ]
    }
   ],
   "source": [
    "file_path = r\"Z:\\Pain_Data\\preproc\\sourcedata\\freesurfer\\sub-01\\stats\\aseg.stats\"\n",
    "\n",
    "# Initialize variable to store TotalGray value\n",
    "total_gray = None\n",
    "\n",
    "# Open the file and search for the TotalGray line\n",
    "with open(file_path, 'r') as file:\n",
    "    for line in file:\n",
    "        if \"Measure TotalGray,\" in line:\n",
    "            # Extract the fourth column (value of TotalGray)\n",
    "            total_gray = line.split(\",\")[3].strip()\n",
    "            break\n",
    "\n",
    "if total_gray:\n",
    "    print(f\"TotalGray value: {total_gray}\")\n",
    "else:\n",
    "    print(\"TotalGray not found in the file.\")"
   ]
  },
  {
   "cell_type": "code",
   "execution_count": null,
   "metadata": {},
   "outputs": [],
   "source": [
    "temp"
   ]
  },
  {
   "cell_type": "markdown",
   "metadata": {},
   "source": [
    "# Imports"
   ]
  },
  {
   "cell_type": "code",
   "execution_count": 64,
   "metadata": {},
   "outputs": [],
   "source": [
    "import os\n",
    "import pandas as pd\n",
    "import numpy as np\n",
    "import matplotlib.pyplot as plt\n",
    "import seaborn as sns\n",
    "from sklearn.linear_model import LinearRegression\n",
    "from sklearn.model_selection import train_test_split\n",
    "from sklearn.metrics import mean_squared_error, r2_score\n",
    "from sklearn.preprocessing import LabelEncoder\n",
    "from sklearn.model_selection import KFold\n"
   ]
  },
  {
   "cell_type": "markdown",
   "metadata": {},
   "source": [
    "# Extracting TotalGray From All Subjects"
   ]
  },
  {
   "cell_type": "code",
   "execution_count": 65,
   "metadata": {},
   "outputs": [],
   "source": [
    "\n",
    "\n",
    "def extract_gray_matter_volume(aseg_stats_path):\n",
    "    # Initialize variable to store TotalGray value\n",
    "    total_gray = None\n",
    "\n",
    "# Open the file and search for the TotalGray line\n",
    "    with open(aseg_stats_path, 'r') as file:\n",
    "        for line in file:\n",
    "            if \"Measure TotalGray,\" in line:\n",
    "                # Extract the fourth column (value of TotalGray)\n",
    "                total_gray = line.split(\",\")[3].strip()\n",
    "                break\n",
    "\n",
    "    if total_gray:\n",
    "        # print(f\"TotalGray value: {total_gray}\")\n",
    "        return total_gray\n",
    "    else:\n",
    "        # print(\"TotalGray not found in the file.\")\n",
    "        return None\n",
    "    \n",
    "# Extract gray matter volumes for all subjects\n",
    "base_dir = r\"Z:\\Pain_Data\\preproc\\sourcedata\\freesurfer\"  # Base directory for FreeSurfer data\n",
    "\n",
    "subject_dirs = [\n",
    "    os.path.join(base_dir, sub, 'stats', 'aseg.stats')\n",
    "    for sub in os.listdir(base_dir)\n",
    "    if os.path.isdir(os.path.join(base_dir, sub))\n",
    "]\n",
    "subject_dirs = subject_dirs[1:] \n",
    "\n",
    "subject_TotalGray_data = []\n",
    "\n",
    "for aseg_path in subject_dirs:\n",
    "    subject_id = os.path.basename(os.path.dirname(os.path.dirname(aseg_path)))\n",
    "    gray_matter_volume = extract_gray_matter_volume(aseg_path)\n",
    "    if gray_matter_volume is not None:\n",
    "        subject_TotalGray_data.append({'Subject no.': subject_id, 'GrayMatterVolume': gray_matter_volume})\n",
    "\n",
    "gray_matter_df = pd.DataFrame(subject_TotalGray_data)\n"
   ]
  },
  {
   "cell_type": "markdown",
   "metadata": {},
   "source": [
    "# Extracting Patient Data"
   ]
  },
  {
   "cell_type": "code",
   "execution_count": 66,
   "metadata": {},
   "outputs": [],
   "source": [
    "# Step 3: Load demographic data\n",
    "Patient_Data_path = r\"C:\\Users\\zevel\\Downloads\\התנסות מחקרית\\Copy of data_Pre_Post_Placebo_paper_2016_Tetreault_P (2).csv\"  # Update with your file path\n",
    "Patient_Data = pd.read_csv(Patient_Data_path)\n",
    "\n",
    "# Step 4: Merge gray matter data with demographics using \"Subject no.\"\n",
    "merged_data = pd.merge(Patient_Data, gray_matter_df, on=\"Subject no.\", how=\"inner\")\n",
    "\n",
    "\n",
    "\n",
    "\n"
   ]
  },
  {
   "cell_type": "markdown",
   "metadata": {},
   "source": [
    "# Encoding the Variables"
   ]
  },
  {
   "cell_type": "code",
   "execution_count": 67,
   "metadata": {},
   "outputs": [],
   "source": [
    "# Categorize subjects into \"Control\" and \"Chronic Pain\" groups\n",
    "def assign_group(subject_no):\n",
    "    subject_number = int(subject_no.split('-')[1])  # Extract the numeric part of Subject no.\n",
    "    return \"Control\" if subject_number <= 20 else \"Chronic Pain\"\n",
    "\n",
    "merged_data['PainGroup'] = merged_data['Subject no.'].apply(assign_group) # New column\n",
    "\n",
    "# Encode categorical variables (e.g., Gender and PainGroup)\n",
    "label_encoder = LabelEncoder()\n",
    "# merged_data['GenderEncoded'] = label_encoder.fit_transform(merged_data['gender']) # No Need\n",
    "merged_data['PainGroupEncoded'] = merged_data['PainGroup'].map({\"Control\": 0, \"Chronic Pain\": 1})\n",
    "\n",
    "\n"
   ]
  },
  {
   "cell_type": "markdown",
   "metadata": {},
   "source": [
    "# Preparing Data for Regression"
   ]
  },
  {
   "cell_type": "code",
   "execution_count": 68,
   "metadata": {},
   "outputs": [],
   "source": [
    "X = merged_data[['age', 'gender 01', 'PainGroupEncoded']]  # Predictors\n",
    "y = merged_data['GrayMatterVolume']  # Target variable"
   ]
  },
  {
   "cell_type": "markdown",
   "metadata": {},
   "source": [
    "# Train-Test split \n",
    "This is an example for our understanding, these variables are not used in the cross validation. There it is done again"
   ]
  },
  {
   "cell_type": "code",
   "execution_count": 69,
   "metadata": {},
   "outputs": [
    {
     "name": "stdout",
     "output_type": "stream",
     "text": [
      "Train size: 48\n",
      "Dev size: 12\n",
      "Test size: 16\n"
     ]
    }
   ],
   "source": [
    "# Train-test split\n",
    "X_train_full, X_test, y_train_full, y_test = train_test_split(X, y, test_size=0.2, random_state=42)\n",
    "\n",
    "# Train-dev split (from the remaining 80% which is X_train_full)\n",
    "X_train, X_dev, y_train, y_dev = train_test_split(X_train_full, y_train_full, test_size=0.2, random_state=42) #this is done again in the cross validation\n",
    "\n",
    "# Print sizes to verify the splits\n",
    "print(f\"Train size: {len(X_train)}\")\n",
    "print(f\"Dev size: {len(X_dev)}\")\n",
    "print(f\"Test size: {len(X_test)}\")"
   ]
  },
  {
   "cell_type": "markdown",
   "metadata": {},
   "source": [
    "# Cross Validation on Train subjects"
   ]
  },
  {
   "cell_type": "code",
   "execution_count": 70,
   "metadata": {},
   "outputs": [
    {
     "name": "stdout",
     "output_type": "stream",
     "text": [
      "Fold 1: MSE = 1563721952.88, R^2 = 0.52\n",
      "Fold 2: MSE = 2602391273.14, R^2 = 0.19\n",
      "Fold 3: MSE = 2059310348.40, R^2 = -0.12\n",
      "Fold 4: MSE = 2133391386.08, R^2 = 0.28\n",
      "Fold 5: MSE = 4444450461.02, R^2 = -0.15\n",
      "\n",
      "Cross-Validation Performance:\n",
      "Average MSE: 2560653084.30\n",
      "Average R^2: 0.14\n"
     ]
    }
   ],
   "source": [
    "# Train-test split\n",
    "X_train_full, X_test, y_train_full, y_test = train_test_split(X, y, test_size=0.2, random_state=42)\n",
    "\n",
    "# Number of folds\n",
    "n_splits = 5\n",
    "kf = KFold(n_splits=n_splits, shuffle=True, random_state=42) # Calling KFold\n",
    "\n",
    "\n",
    "\n",
    "# Convert X_train  and Y_train to a NumPy array\n",
    "X_train_np = X_train_full.to_numpy()\n",
    "y_train_np = y_train_full.to_numpy()\n",
    "\n",
    "r2_scores = []\n",
    "mse_scores = []\n",
    "\n",
    "# Cross-validation\n",
    "for fold, (train_index, dev_index) in enumerate(kf.split(X_train_np)):\n",
    "    # Split into training and validation sets\n",
    "    X_train_fold, X_dev_fold = X_train_np[train_index], X_train_np[dev_index]\n",
    "    y_train_fold, y_dev_fold = y_train_np[train_index], y_train_np[dev_index]\n",
    "    \n",
    "    # Train the model\n",
    "    model = LinearRegression()  \n",
    "    model.fit(X_train_fold, y_train_fold)\n",
    "    \n",
    "    # Predict on the validation set\n",
    "    y_dev_pred = model.predict(X_dev_fold)\n",
    "    \n",
    "    # Compute metrics\n",
    "    mse = mean_squared_error(y_dev_fold, y_dev_pred)\n",
    "    r2 = r2_score(y_dev_fold, y_dev_pred)\n",
    "    \n",
    "    # Append metrics to the lists\n",
    "    mse_scores.append(mse)\n",
    "    r2_scores.append(r2)\n",
    "    \n",
    "    print(f\"Fold {fold+1}: MSE = {mse:.2f}, R^2 = {r2:.2f}\")\n",
    "\n",
    "# Calculate average metrics\n",
    "avg_mse = sum(mse_scores) / len(mse_scores)\n",
    "avg_r2 = sum(r2_scores) / len(r2_scores)\n",
    "\n",
    "print(\"\\nCross-Validation Performance:\")\n",
    "print(f\"Average MSE: {avg_mse:.2f}\")\n",
    "print(f\"Average R^2: {avg_r2:.2f}\")"
   ]
  },
  {
   "cell_type": "markdown",
   "metadata": {},
   "source": [
    "# Evaluating the Final Model on X_test, y_test"
   ]
  },
  {
   "cell_type": "code",
   "execution_count": 76,
   "metadata": {},
   "outputs": [
    {
     "name": "stdout",
     "output_type": "stream",
     "text": [
      "\n",
      "Test Set Performance:\n",
      "Test MSE: 1493661581.16\n",
      "Test R^2: -0.02\n",
      "Coefficients: [  -281.24550226  62244.95406869 -25321.76342007]\n",
      "Intercept: 558455.2314730741\n",
      "\n",
      "Feature Importance:\n",
      "age: -281.246\n",
      "gender 01: 62244.954\n",
      "PainGroupEncoded: -25321.763\n"
     ]
    }
   ],
   "source": [
    "# Train the final model on the entire training set\n",
    "final_model = LinearRegression()  \n",
    "final_model.fit(X_train_full, y_train_full)\n",
    "\n",
    "# Predict on the test set\n",
    "y_test_pred = final_model.predict(X_test)\n",
    "\n",
    "# Evaluate the final model on the test set\n",
    "from sklearn.metrics import mean_squared_error, r2_score\n",
    "mse_test = mean_squared_error(y_test, y_test_pred)\n",
    "r2_test = r2_score(y_test, y_test_pred)\n",
    "\n",
    "print(\"\\nTest Set Performance:\")\n",
    "print(f\"Test MSE: {mse_test:.2f}\")\n",
    "print(f\"Test R^2: {r2_test:.2f}\")\n",
    "print(\"Coefficients:\", model.coef_)\n",
    "print(\"Intercept:\", model.intercept_)\n",
    "\n",
    "# Finding feature importance\n",
    "print(\"\\nFeature Importance:\")\n",
    "for feature, coef in zip(X.columns, model.coef_):\n",
    "    print(f\"{feature}: {coef:.3f}\")"
   ]
  },
  {
   "cell_type": "markdown",
   "metadata": {},
   "source": [
    "# Turning All Of This Into a Function"
   ]
  },
  {
   "cell_type": "code",
   "execution_count": 84,
   "metadata": {},
   "outputs": [],
   "source": [
    "def Lin_Regress(x_cols):\n",
    "    \n",
    "    print(f\"\\nRegressors: {x_cols} \")\n",
    "    print()\n",
    "\n",
    "    \n",
    "    X = merged_data[x_cols]\n",
    "    y = merged_data['GrayMatterVolume']  # Target variable\n",
    "    \n",
    "\n",
    "\n",
    "    # Train-test split\n",
    "    X_train_full, X_test, y_train_full, y_test = train_test_split(X, y, test_size=0.2, random_state=42)\n",
    "\n",
    "    # Number of folds\n",
    "    n_splits = 5\n",
    "    kf = KFold(n_splits=n_splits, shuffle=True, random_state=42) # Calling KFold\n",
    "\n",
    "    # Convert X_train  and Y_train to a NumPy array\n",
    "    X_train_np = X_train_full.to_numpy()\n",
    "    y_train_np = y_train_full.to_numpy()\n",
    "\n",
    "    r2_scores = []\n",
    "    mse_scores = []\n",
    "\n",
    "    # Cross-validation\n",
    "    for fold, (train_index, dev_index) in enumerate(kf.split(X_train_np)):\n",
    "        # Split into training and validation sets\n",
    "        X_train_fold, X_dev_fold = X_train_np[train_index], X_train_np[dev_index]\n",
    "        y_train_fold, y_dev_fold = y_train_np[train_index], y_train_np[dev_index]\n",
    "        \n",
    "        # Train the model\n",
    "        model = LinearRegression()  \n",
    "        model.fit(X_train_fold, y_train_fold)\n",
    "        \n",
    "        # Predict on the validation set\n",
    "        y_dev_pred = model.predict(X_dev_fold)\n",
    "        \n",
    "        # Compute metrics\n",
    "        mse = mean_squared_error(y_dev_fold, y_dev_pred)\n",
    "        r2 = r2_score(y_dev_fold, y_dev_pred)\n",
    "        \n",
    "        # Append metrics to the lists\n",
    "        mse_scores.append(mse)\n",
    "        r2_scores.append(r2)\n",
    "        \n",
    "        print(f\"Fold {fold+1}: MSE = {mse:.2f}, R^2 = {r2:.2f}\")\n",
    "\n",
    "    # Calculate average metrics\n",
    "    avg_mse = sum(mse_scores) / len(mse_scores)\n",
    "    avg_r2 = sum(r2_scores) / len(r2_scores)\n",
    "\n",
    "    print(\"\\nCross-Validation Performance:\")\n",
    "    print(f\"Average MSE: {avg_mse:.2f}\")\n",
    "    print(f\"Average R^2: {avg_r2:.2f}\")\n",
    "    \n",
    "    # Train the final model on the entire training set\n",
    "    final_model = LinearRegression() \n",
    "    final_model.fit(X_train_full, y_train_full)\n",
    "\n",
    "    # Predict on the test set\n",
    "    y_test_pred = final_model.predict(X_test)\n",
    "\n",
    "    # Evaluate the final model on the test set\n",
    "    #from sklearn.metrics import mean_squared_error, r2_score\n",
    "    mse_test = mean_squared_error(y_test, y_test_pred)\n",
    "    r2_test = r2_score(y_test, y_test_pred)\n",
    "\n",
    "    print(\"\\nTest Set Performance:\")\n",
    "    print(f\"Test MSE: {mse_test:.2f}\")\n",
    "    print(f\"Test R^2: {r2_test:.2f}\")\n",
    "    print(\"Coefficients\", model.coef_)\n",
    "    print(\"Intercept:\", model.intercept_)\n",
    "    \n",
    "    return mse_test, r2_test, model.coef_, model.intercept_\n",
    "\n"
   ]
  },
  {
   "cell_type": "markdown",
   "metadata": {},
   "source": [
    "# Performing Linear Regression for each Variable Seperately"
   ]
  },
  {
   "cell_type": "code",
   "execution_count": 85,
   "metadata": {},
   "outputs": [
    {
     "name": "stdout",
     "output_type": "stream",
     "text": [
      "\n",
      "Regressors: ['PainGroupEncoded'] \n",
      "\n",
      "Fold 1: MSE = 2894488427.79, R^2 = 0.12\n",
      "Fold 2: MSE = 4022202003.01, R^2 = -0.26\n",
      "Fold 3: MSE = 1891869863.79, R^2 = -0.03\n",
      "Fold 4: MSE = 3227040636.42, R^2 = -0.09\n",
      "Fold 5: MSE = 4322435965.77, R^2 = -0.12\n",
      "\n",
      "Cross-Validation Performance:\n",
      "Average MSE: 3271607379.36\n",
      "Average R^2: -0.08\n",
      "\n",
      "Test Set Performance:\n",
      "Test MSE: 1754212176.99\n",
      "Test R^2: -0.20\n",
      "Coefficients [-26641.76801256]\n",
      "Intercept: 575659.5060713848\n",
      "\n",
      "Regressors: ['age'] \n",
      "\n",
      "Fold 1: MSE = 3754581404.80, R^2 = -0.15\n",
      "Fold 2: MSE = 3371432940.37, R^2 = -0.05\n",
      "Fold 3: MSE = 1717257672.49, R^2 = 0.07\n",
      "Fold 4: MSE = 3291256509.75, R^2 = -0.12\n",
      "Fold 5: MSE = 4405664652.96, R^2 = -0.14\n",
      "\n",
      "Cross-Validation Performance:\n",
      "Average MSE: 3308038636.07\n",
      "Average R^2: -0.08\n",
      "\n",
      "Test Set Performance:\n",
      "Test MSE: 1725339007.67\n",
      "Test R^2: -0.18\n",
      "Coefficients [-991.41357598]\n",
      "Intercept: 613260.1519639702\n",
      "\n",
      "Regressors: ['gender 01'] \n",
      "\n",
      "Fold 1: MSE = 1591104099.34, R^2 = 0.51\n",
      "Fold 2: MSE = 2348954758.14, R^2 = 0.27\n",
      "Fold 3: MSE = 2395012134.23, R^2 = -0.30\n",
      "Fold 4: MSE = 2259169710.27, R^2 = 0.23\n",
      "Fold 5: MSE = 4628760579.93, R^2 = -0.20\n",
      "\n",
      "Cross-Validation Performance:\n",
      "Average MSE: 2644600256.38\n",
      "Average R^2: 0.10\n",
      "\n",
      "Test Set Performance:\n",
      "Test MSE: 1567196480.41\n",
      "Test R^2: -0.07\n",
      "Coefficients [63246.37301392]\n",
      "Intercept: 523292.3976174784\n",
      "\n",
      "Regressors: ['age', 'gender 01', 'PainGroupEncoded'] \n",
      "\n",
      "Fold 1: MSE = 1563721952.88, R^2 = 0.52\n",
      "Fold 2: MSE = 2602391273.14, R^2 = 0.19\n",
      "Fold 3: MSE = 2059310348.40, R^2 = -0.12\n",
      "Fold 4: MSE = 2133391386.08, R^2 = 0.28\n",
      "Fold 5: MSE = 4444450461.02, R^2 = -0.15\n",
      "\n",
      "Cross-Validation Performance:\n",
      "Average MSE: 2560653084.30\n",
      "Average R^2: 0.14\n",
      "\n",
      "Test Set Performance:\n",
      "Test MSE: 1493661581.16\n",
      "Test R^2: -0.02\n",
      "Coefficients [  -281.24550226  62244.95406869 -25321.76342007]\n",
      "Intercept: 558455.2314730741\n"
     ]
    },
    {
     "data": {
      "text/plain": [
       "(1493661581.1619155,\n",
       " -0.01801689237436821,\n",
       " array([  -281.24550226,  62244.95406869, -25321.76342007]),\n",
       " np.float64(558455.2314730741))"
      ]
     },
     "execution_count": 85,
     "metadata": {},
     "output_type": "execute_result"
    }
   ],
   "source": [
    "Lin_Regress(['PainGroupEncoded'])\n",
    "Lin_Regress(['age'])\n",
    "Lin_Regress(['gender 01'])\n",
    "Lin_Regress(['age', 'gender 01', 'PainGroupEncoded'])\n",
    "\n"
   ]
  }
 ],
 "metadata": {
  "kernelspec": {
   "display_name": "Python 3",
   "language": "python",
   "name": "python3"
  },
  "language_info": {
   "codemirror_mode": {
    "name": "ipython",
    "version": 3
   },
   "file_extension": ".py",
   "mimetype": "text/x-python",
   "name": "python",
   "nbconvert_exporter": "python",
   "pygments_lexer": "ipython3",
   "version": "3.13.1"
  }
 },
 "nbformat": 4,
 "nbformat_minor": 2
}
